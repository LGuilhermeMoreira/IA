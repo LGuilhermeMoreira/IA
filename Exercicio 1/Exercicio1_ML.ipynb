{
  "cells": [
    {
      "cell_type": "code",
      "execution_count": null,
      "metadata": {
        "id": "084aJZHJHONC"
      },
      "outputs": [],
      "source": []
    },
    {
      "cell_type": "markdown",
      "metadata": {
        "id": "oNkCZZC1HONC"
      },
      "source": [
        "# Exercício A\n",
        "- Dados as listas abaixo:"
      ]
    },
    {
      "cell_type": "code",
      "execution_count": 1,
      "metadata": {
        "id": "KTPfEj7yHONC"
      },
      "outputs": [],
      "source": [
        "altura = [1.73, 1.68, 1.71, 1.89, 1.79]"
      ]
    },
    {
      "cell_type": "code",
      "execution_count": 2,
      "metadata": {
        "id": "bKAhrDH4HONC"
      },
      "outputs": [],
      "source": [
        "peso = [65.4, 59.2, 63.6, 88.4, 68.7]"
      ]
    },
    {
      "cell_type": "markdown",
      "metadata": {
        "id": "HeTiW2TrHOND"
      },
      "source": [
        "- Importe numpy as np\n",
        "- crie dois numpy arrays com a altura e o peso de 5 pessoas baseados na lista acima\n",
        "- calcule o indice de massa corporal de cada uma das 5 pessoas e armazeno em um array chamado imc (imc = peso / altura**2)\n",
        "- imprima o array imc\n",
        "- selecione do array imc apenas as pessoas que estiverem com icm acima de 23 e armazene no array sobrepeso\n",
        "- imprima o array sobrepeso"
      ]
    },
    {
      "cell_type": "markdown",
      "metadata": {
        "id": "6vUYHbhhHOND"
      },
      "source": [
        "# Exercício B\n",
        "- Dadas as listas abaixo:"
      ]
    },
    {
      "cell_type": "code",
      "execution_count": null,
      "metadata": {
        "id": "cGBwK1G_HOND"
      },
      "outputs": [],
      "source": [
        "year = [1950, 1970, 1990, 2010]\n",
        "pop = [2.519, 3.692, 5.263, 6.972]"
      ]
    },
    {
      "cell_type": "code",
      "execution_count": null,
      "metadata": {},
      "outputs": [],
      "source": []
    },
    {
      "cell_type": "markdown",
      "metadata": {
        "id": "sX9lVrNZHONE"
      },
      "source": [
        "- Importe matplotlib.pyplot as plt\n",
        "- plote um gráfico em linha com o método plt.plot(x,y)\n",
        "- plotte um scatter plot com o método plt.scatter(x,y)\n",
        "- use os métodos plt.xlabel(), plt.ylabel() e plt.title() para descrever os gráficos\n"
      ]
    },
    {
      "cell_type": "code",
      "execution_count": null,
      "metadata": {
        "id": "UGSWfi9yHONF"
      },
      "outputs": [],
      "source": []
    },
    {
      "cell_type": "code",
      "execution_count": null,
      "metadata": {
        "id": "oC-c3lX_InCf"
      },
      "outputs": [],
      "source": [
        "# Exercício A\n",
        "import numpy as np\n",
        "\n",
        "altura = [1.73, 1.68, 1.71, 1.89, 1.79]\n",
        "peso = [65.4, 59.2, 63.6, 88.4, 68.7]\n",
        "\n",
        "l_altura = np.array(altura)\n",
        "l_peso = np.array(peso)\n",
        "\n",
        "l_imc = l_peso / (l_altura ** 2)\n",
        "l_imc = np.array(l_imc)\n",
        "print(\"IMC:\", l_imc)\n",
        "\n",
        "l_sobrepeso = []\n",
        "\n",
        "for imc in l_imc:\n",
        "    if imc > 23:\n",
        "        l_sobrepeso.append(imc)\n",
        "\n",
        "l_sobrepeso = np.array(l_sobrepeso)\n",
        "print(\"Sobrepeso:\", l_sobrepeso)\n"
      ]
    },
    {
      "cell_type": "code",
      "execution_count": null,
      "metadata": {
        "id": "cJQdsaIJ4cue"
      },
      "outputs": [],
      "source": [
        "# Exercício B\n",
        "import matplotlib.pyplot as plt\n",
        "\n",
        "year = [1950, 1970, 1990, 2010]\n",
        "pop = [2.519, 3.692, 5.263, 6.972]\n",
        "\n",
        "# Plotting a line graph\n",
        "plt.plot(year, pop)\n",
        "\n",
        "# Plotting a scatter graph\n",
        "plt.scatter(year, pop)\n",
        "\n",
        "# Labels and title\n",
        "plt.xlabel('Year')\n",
        "plt.ylabel('Population')\n",
        "plt.title('Population Growth Over Time')\n",
        "\n",
        "# Display the plot\n",
        "plt.show()"
      ]
    }
  ],
  "metadata": {
    "colab": {
      "collapsed_sections": [],
      "name": "Exercicio1_ML.ipynb",
      "provenance": []
    },
    "kernelspec": {
      "display_name": "Python 3",
      "language": "python",
      "name": "python3"
    },
    "language_info": {
      "codemirror_mode": {
        "name": "ipython",
        "version": 3
      },
      "file_extension": ".py",
      "mimetype": "text/x-python",
      "name": "python",
      "nbconvert_exporter": "python",
      "pygments_lexer": "ipython3",
      "version": "3.7.4"
    }
  },
  "nbformat": 4,
  "nbformat_minor": 0
}
