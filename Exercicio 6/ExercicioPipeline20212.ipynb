{
 "cells": [
  {
   "cell_type": "markdown",
   "metadata": {},
   "source": [
    "# Exercício Pipeline"
   ]
  },
  {
   "cell_type": "markdown",
   "metadata": {},
   "source": [
    "- Utilize o dataset do Gapminder `gm_2008_region.csv`\n",
    "- Prepare um pipeline com os seguintes passos:\n",
    "    - `'imputation'`, que usa Imputer() com a estratégea `'mean'` para adicionar dados faltantes `('NaN')` usando a média da coluna.\n",
    "    - `'scaler'`, que normaliza as features usando StandardScaler().\n",
    "    - `'elasticnet'`, que instancia um regressor ElasticNet().\n",
    "- Especifique o espaço do hyperparametro para o l1 ratio usando a seguinte notação: `'step_name__parameter_name'`. Onde, step_name é `elasticnet`, e the `parameter_name` é `l1_ratio`. \n",
    "`parameters = {'elasticnet__l1_ratio':np.linspace(0,1,30)}`\n",
    "- Crie os training e test sets, com 40% dos dados usados para teste. Use random state 42.\n",
    "- Instancie GridSearchCV com o pipeline e o espaço de hyperparametro, Use 3-fold cross-validation (esse é o padrão)\n",
    "- Fit o GridSearchCV object para o training set.\n",
    "- Compute o score padrão e os melhores parametros e imprimna. "
   ]
  },
  {
   "cell_type": "code",
   "execution_count": null,
   "metadata": {},
   "outputs": [],
   "source": []
  }
 ],
 "metadata": {
  "kernelspec": {
   "display_name": "Python 3",
   "language": "python",
   "name": "python3"
  },
  "language_info": {
   "codemirror_mode": {
    "name": "ipython",
    "version": 3
   },
   "file_extension": ".py",
   "mimetype": "text/x-python",
   "name": "python",
   "nbconvert_exporter": "python",
   "pygments_lexer": "ipython3",
   "version": "3.7.4"
  }
 },
 "nbformat": 4,
 "nbformat_minor": 2
}
