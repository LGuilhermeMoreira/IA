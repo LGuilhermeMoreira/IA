{
 "cells": [
  {
   "cell_type": "markdown",
   "metadata": {},
   "source": [
    "# Exercício Regressão\n",
    "\n",
    "## Primeira parte:\n",
    "\n",
    "- Utilizar os dados do gapminder.csv para determinar a expectativa de vida em um país baseado em features como GDP do país, taxa de fertilidade e população. Como a variável alvo é quantitativa o problema é de regressão.\n",
    "- Ajuste uma Regressão Linear com apenas a feature fertilidade (fertility), que é o número médio de crianças que uma mulher dá a luz. lembre-se de usar o `.reshape` do `numpy`.\n",
    "- Crie o `prediction_space` usando `numpy.linspace()`."
   ]
  },
  {
   "cell_type": "markdown",
   "metadata": {},
   "source": [
    "## Segunda parte:\n",
    "\n",
    "- use `train_test_split(X, y, test_size = 0.3, random_state=42` para dividir os dados em conjunto de treinamento e conjunto de teste.\n",
    "- Utilize todas as features.\n",
    "- compute a `R**2` usando o método .score()."
   ]
  },
  {
   "cell_type": "markdown",
   "metadata": {},
   "source": [
    "## Terceira parte (Croos-Validation):\n",
    " - A validação cruzada é um passo importante para avaliar um modelo. Ela maximiza a quantidade de dados que é usada para treinar o modelo, devido a durante o treinamento, o modelo não é apenas treinado, mas também testado em todo o dado disponível.\n",
    " - Use 5-fold cross validation nos dados. A função cross-val-score() usa `R**2` por padrão como métrica para avaliar a regressao. A função retornará 5 scores (5-fold cv), compute a média desses scores.\n"
   ]
  },
  {
   "cell_type": "markdown",
   "metadata": {},
   "source": [
    "## Quarta parte (usando Lasso Regretion para determinar qual a feature mais importante para determinar a taxa de fertilidade\n",
    "- Instancie o regressor Lasso com `alpha=0.4` e `normalize=True`.\n",
    "- Use Fit nos dados e compute os coeficientes usanto o atributo `.coef_`.\n",
    "- Plote os coeficientes no eixo-y e os nomes das colunas no eixo-x.\n"
   ]
  },
  {
   "cell_type": "code",
   "execution_count": null,
   "metadata": {},
   "outputs": [],
   "source": []
  }
 ],
 "metadata": {
  "kernelspec": {
   "display_name": "Python 3",
   "language": "python",
   "name": "python3"
  },
  "language_info": {
   "codemirror_mode": {
    "name": "ipython",
    "version": 3
   },
   "file_extension": ".py",
   "mimetype": "text/x-python",
   "name": "python",
   "nbconvert_exporter": "python",
   "pygments_lexer": "ipython3",
   "version": "3.7.4"
  }
 },
 "nbformat": 4,
 "nbformat_minor": 2
}
