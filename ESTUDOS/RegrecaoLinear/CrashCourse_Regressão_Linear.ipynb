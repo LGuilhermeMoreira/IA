{
  "nbformat": 4,
  "nbformat_minor": 0,
  "metadata": {
    "colab": {
      "name": "CrashCourse - Regressão Linear.ipynb",
      "provenance": [],
      "collapsed_sections": []
    },
    "kernelspec": {
      "name": "python3",
      "display_name": "Python 3"
    }
  },
  "cells": [
    {
      "cell_type": "markdown",
      "metadata": {
        "id": "KT0-Qo18hVLV",
        "colab_type": "text"
      },
      "source": [
        "# Crash Course IA - Aula 2 - Regressão Linear\n",
        "Este é o primeiro exercício prático do Crash Course de IA, uma iniciativa em adaptar a disciplina de IA do TIDD/PUC-SP para uma versão online e acessível para todos. <br> Neste tutorial, vamos treinar um modelo de regressão linear para predição de valores contínuos. As aulas estão disponíveis no YouTube: https://youtu.be/Ze-Q6ZNWpco <br><br>\n",
        "\n",
        "Qualquer dúvida, entre em contato:<br>\n",
        "https://twitter.com/diogocortiz <br>\n",
        "https://instagram.com/diogocortiz"
      ]
    },
    {
      "cell_type": "code",
      "metadata": {
        "id": "7Uv0As_YhQgq",
        "colab_type": "code",
        "colab": {}
      },
      "source": [
        "from matplotlib import pyplot as plt\n",
        "import pandas as pd\n",
        "import pylab as pl\n",
        "import numpy as np\n",
        "from sklearn import linear_model\n",
        "from sklearn.metrics import r2_score, mean_squared_error,mean_absolute_error\n",
        "from sklearn.model_selection import train_test_split\n",
        "from math import sqrt"
      ],
      "execution_count": 0,
      "outputs": []
    },
    {
      "cell_type": "markdown",
      "metadata": {
        "id": "t8hYi8enhPJZ",
        "colab_type": "text"
      },
      "source": [
        "# Download do Dataset"
      ]
    },
    {
      "cell_type": "code",
      "metadata": {
        "id": "WLJtCW09iur4",
        "colab_type": "code",
        "outputId": "5eb714bd-2ed5-4bb5-ef85-5a8be66ee1a3",
        "colab": {
          "base_uri": "https://localhost:8080/",
          "height": 397
        }
      },
      "source": [
        "!pip3 install wget\n",
        "!wget https://raw.githubusercontent.com/diogocortiz/Crash-Course-IA/master/RegressaoLinear/FuelConsumptionCo2.csv"
      ],
      "execution_count": 3,
      "outputs": [
        {
          "output_type": "stream",
          "text": [
            "Collecting wget\n",
            "  Downloading https://files.pythonhosted.org/packages/47/6a/62e288da7bcda82b935ff0c6cfe542970f04e29c756b0e147251b2fb251f/wget-3.2.zip\n",
            "Building wheels for collected packages: wget\n",
            "  Building wheel for wget (setup.py) ... \u001b[?25l\u001b[?25hdone\n",
            "  Created wheel for wget: filename=wget-3.2-cp36-none-any.whl size=9682 sha256=cefd3109053d8b6a350b4106124349bdfc5883792ac82e5bb598ac0a97ac40b4\n",
            "  Stored in directory: /root/.cache/pip/wheels/40/15/30/7d8f7cea2902b4db79e3fea550d7d7b85ecb27ef992b618f3f\n",
            "Successfully built wget\n",
            "Installing collected packages: wget\n",
            "Successfully installed wget-3.2\n",
            "--2020-04-02 13:45:06--  https://raw.githubusercontent.com/diogocortiz/CrashCourseML/master/FuelConsumptionCo2.csv\n",
            "Resolving raw.githubusercontent.com (raw.githubusercontent.com)... 151.101.0.133, 151.101.64.133, 151.101.128.133, ...\n",
            "Connecting to raw.githubusercontent.com (raw.githubusercontent.com)|151.101.0.133|:443... connected.\n",
            "HTTP request sent, awaiting response... 200 OK\n",
            "Length: 72629 (71K) [text/plain]\n",
            "Saving to: ‘FuelConsumptionCo2.csv’\n",
            "\n",
            "FuelConsumptionCo2. 100%[===================>]  70.93K  --.-KB/s    in 0.01s   \n",
            "\n",
            "2020-04-02 13:45:06 (5.07 MB/s) - ‘FuelConsumptionCo2.csv’ saved [72629/72629]\n",
            "\n"
          ],
          "name": "stdout"
        }
      ]
    },
    {
      "cell_type": "markdown",
      "metadata": {
        "id": "XqkJ4XAAi1gW",
        "colab_type": "text"
      },
      "source": [
        "#Carregar o dataset para um Dataframe (Pandas)"
      ]
    },
    {
      "cell_type": "code",
      "metadata": {
        "id": "KmXx30U5i8tz",
        "colab_type": "code",
        "outputId": "14c0c1aa-93d0-4e83-f363-10180d4d97d5",
        "colab": {
          "base_uri": "https://localhost:8080/",
          "height": 161
        }
      },
      "source": [
        "# Cria um dataset chamado 'df' que receberá os dados do csv\n",
        "df = pd.read_csv(\"FuelConsumptionCo2.csv\")\n",
        "\n",
        "#EXIBE A ESTRUTURA DO DATAFRAME\n",
        "print(df.head())"
      ],
      "execution_count": 4,
      "outputs": [
        {
          "output_type": "stream",
          "text": [
            "   MODELYEAR   MAKE  ... FUELCONSUMPTION_COMB_MPG CO2EMISSIONS\n",
            "0       2014  ACURA  ...                       33          196\n",
            "1       2014  ACURA  ...                       29          221\n",
            "2       2014  ACURA  ...                       48          136\n",
            "3       2014  ACURA  ...                       25          255\n",
            "4       2014  ACURA  ...                       27          244\n",
            "\n",
            "[5 rows x 13 columns]\n"
          ],
          "name": "stdout"
        }
      ]
    },
    {
      "cell_type": "markdown",
      "metadata": {
        "id": "ZF0DXy89jJHy",
        "colab_type": "text"
      },
      "source": [
        "# Exibe o resumo do Dataset"
      ]
    },
    {
      "cell_type": "code",
      "metadata": {
        "id": "h8g2qZdPjTXW",
        "colab_type": "code",
        "outputId": "04ff402d-f856-4c0b-a902-33536acea148",
        "colab": {
          "base_uri": "https://localhost:8080/",
          "height": 215
        }
      },
      "source": [
        "print(df.describe())"
      ],
      "execution_count": 5,
      "outputs": [
        {
          "output_type": "stream",
          "text": [
            "       MODELYEAR   ENGINESIZE  ...  FUELCONSUMPTION_COMB_MPG  CO2EMISSIONS\n",
            "count     1067.0  1067.000000  ...               1067.000000   1067.000000\n",
            "mean      2014.0     3.346298  ...                 26.441425    256.228679\n",
            "std          0.0     1.415895  ...                  7.468702     63.372304\n",
            "min       2014.0     1.000000  ...                 11.000000    108.000000\n",
            "25%       2014.0     2.000000  ...                 21.000000    207.000000\n",
            "50%       2014.0     3.400000  ...                 26.000000    251.000000\n",
            "75%       2014.0     4.300000  ...                 31.000000    294.000000\n",
            "max       2014.0     8.400000  ...                 60.000000    488.000000\n",
            "\n",
            "[8 rows x 8 columns]\n"
          ],
          "name": "stdout"
        }
      ]
    },
    {
      "cell_type": "markdown",
      "metadata": {
        "id": "UqHW1fhOjVsT",
        "colab_type": "text"
      },
      "source": [
        "# Selecionar apenas as features do Motor e CO2"
      ]
    },
    {
      "cell_type": "code",
      "metadata": {
        "id": "bt_r3MUxjfDZ",
        "colab_type": "code",
        "outputId": "37e5a981-c0df-47af-e267-978004556405",
        "colab": {
          "base_uri": "https://localhost:8080/",
          "height": 125
        }
      },
      "source": [
        "motores =  df[['ENGINESIZE']]\n",
        "co2 = df[['CO2EMISSIONS']]\n",
        "print(motores.head())\n",
        "\n"
      ],
      "execution_count": 6,
      "outputs": [
        {
          "output_type": "stream",
          "text": [
            "   ENGINESIZE\n",
            "0         2.0\n",
            "1         2.4\n",
            "2         1.5\n",
            "3         3.5\n",
            "4         3.5\n"
          ],
          "name": "stdout"
        }
      ]
    },
    {
      "cell_type": "markdown",
      "metadata": {
        "id": "hr9S-RPQjkCc",
        "colab_type": "text"
      },
      "source": [
        "#Dividir o dataset em dados de treinamento e dados de teste\n",
        "neste casos vamos usar o train_test_split do scikitlearn"
      ]
    },
    {
      "cell_type": "code",
      "metadata": {
        "id": "aiY_y4rqkFYQ",
        "colab_type": "code",
        "outputId": "980a2deb-03d4-48eb-c5ae-63f45f625f51",
        "colab": {
          "base_uri": "https://localhost:8080/",
          "height": 35
        }
      },
      "source": [
        "motores_treino, motores_test, co2_treino, co2_teste = train_test_split(motores, co2, test_size=0.2, random_state=42)\n",
        "print(type(motores_treino))\n"
      ],
      "execution_count": 7,
      "outputs": [
        {
          "output_type": "stream",
          "text": [
            "<class 'pandas.core.frame.DataFrame'>\n"
          ],
          "name": "stdout"
        }
      ]
    },
    {
      "cell_type": "markdown",
      "metadata": {
        "id": "qwQukeUilsPS",
        "colab_type": "text"
      },
      "source": [
        "#Exibir a correlação entre as features do dataset de treinamento"
      ]
    },
    {
      "cell_type": "code",
      "metadata": {
        "id": "vqji1KAElvcC",
        "colab_type": "code",
        "outputId": "4ce4de7e-8db6-4eea-ad84-4357159c5dfb",
        "colab": {
          "base_uri": "https://localhost:8080/",
          "height": 280
        }
      },
      "source": [
        "plt.scatter(motores_treino, co2_treino, color='blue')\n",
        "plt.xlabel(\"Motor\")\n",
        "plt.ylabel(\"Emissão de CO2\")\n",
        "plt.show()"
      ],
      "execution_count": 8,
      "outputs": [
        {
          "output_type": "display_data",
          "data": {
            "image/png": "[encoded data removed]",
            "text/plain": [
              "<Figure size 432x288 with 1 Axes>"
            ]
          },
          "metadata": {
            "tags": []
          }
        }
      ]
    },
    {
      "cell_type": "markdown",
      "metadata": {
        "id": "xfpFTpMbmMDs",
        "colab_type": "text"
      },
      "source": [
        "# Vamos treinar o modelo de regressão linear"
      ]
    },
    {
      "cell_type": "code",
      "metadata": {
        "id": "0RgpECLrmQZD",
        "colab_type": "code",
        "outputId": "90352f31-e54b-441a-855f-57a699cb5a40",
        "colab": {
          "base_uri": "https://localhost:8080/",
          "height": 35
        }
      },
      "source": [
        "# CRIAR UM MODELO DE TIPO DE REGRESSÃO LINEAR\n",
        "modelo =  linear_model.LinearRegression()\n",
        "\n",
        "# TREINAR O MODELO USANDO O DATASET DE TESTE\n",
        "# PARA ENCONTRAR O VALOR DE A E B (Y = A + B.X)\n",
        "modelo.fit(motores_treino, co2_treino)\n",
        "\n",
        "\n"
      ],
      "execution_count": 9,
      "outputs": [
        {
          "output_type": "execute_result",
          "data": {
            "text/plain": [
              "LinearRegression(copy_X=True, fit_intercept=True, n_jobs=None, normalize=False)"
            ]
          },
          "metadata": {
            "tags": []
          },
          "execution_count": 9
        }
      ]
    },
    {
      "cell_type": "markdown",
      "metadata": {
        "id": "MSZI8DZBncpG",
        "colab_type": "text"
      },
      "source": [
        "#Exibir os coeficientes (A e B)"
      ]
    },
    {
      "cell_type": "code",
      "metadata": {
        "id": "ECiq3FX9ngC7",
        "colab_type": "code",
        "outputId": "5ff21650-c23c-41ab-b2a9-eab8a2577890",
        "colab": {
          "base_uri": "https://localhost:8080/",
          "height": 53
        }
      },
      "source": [
        "print('(A) Intercepto: ', modelo.intercept_)\n",
        "print('(B) Inclinação: ', modelo.coef_)\n"
      ],
      "execution_count": 10,
      "outputs": [
        {
          "output_type": "stream",
          "text": [
            "(A) Intercepto:  [126.28970217]\n",
            "(B) Inclinação:  [[38.99297872]]\n"
          ],
          "name": "stdout"
        }
      ]
    },
    {
      "cell_type": "markdown",
      "metadata": {
        "id": "aEide4fUn5Rn",
        "colab_type": "text"
      },
      "source": [
        "# Vamos exibir a nossa reta de regressão no dataset de treino"
      ]
    },
    {
      "cell_type": "code",
      "metadata": {
        "id": "85BXAC8jns3n",
        "colab_type": "code",
        "outputId": "8a532460-ae12-43c6-9c8b-d070770c57ed",
        "colab": {
          "base_uri": "https://localhost:8080/",
          "height": 280
        }
      },
      "source": [
        "plt.scatter(motores_treino, co2_treino, color='blue')\n",
        "plt.plot(motores_treino, modelo.coef_[0][0]*motores_treino + modelo.intercept_[0], '-r')\n",
        "plt.ylabel(\"Emissão de C02\")\n",
        "plt.xlabel(\"Motores\")\n",
        "plt.show()"
      ],
      "execution_count": 11,
      "outputs": [
        {
          "output_type": "display_data",
          "data": {
            "image/png": "[encoded data removed]",
            "text/plain": [
              "<Figure size 432x288 with 1 Axes>"
            ]
          },
          "metadata": {
            "tags": []
          }
        }
      ]
    },
    {
      "cell_type": "markdown",
      "metadata": {
        "id": "1PXAj3mIoXyP",
        "colab_type": "text"
      },
      "source": [
        "# Vamos executar o nosso modelo no dataset de teste"
      ]
    },
    {
      "cell_type": "code",
      "metadata": {
        "id": "s03hwwgRodGN",
        "colab_type": "code",
        "colab": {}
      },
      "source": [
        "#Primeiro a gente tem que fazer as predições usando o modelo e base de teste\n",
        "predicoesCo2 = modelo.predict(motores_test)\n",
        "\n"
      ],
      "execution_count": 0,
      "outputs": []
    },
    {
      "cell_type": "markdown",
      "metadata": {
        "id": "J6pizEb_S-OQ",
        "colab_type": "text"
      },
      "source": [
        "# Vamos exibir a nossa reta de regressão no dataset de teste"
      ]
    },
    {
      "cell_type": "code",
      "metadata": {
        "id": "AUJesd2PS_ni",
        "colab_type": "code",
        "outputId": "42d06d8c-54bf-4397-de2d-aa93c700274a",
        "colab": {
          "base_uri": "https://localhost:8080/",
          "height": 279
        }
      },
      "source": [
        "plt.scatter(motores_test, co2_teste, color='blue')\n",
        "plt.plot(motores_test, modelo.coef_[0][0]*motores_test + modelo.intercept_[0], '-r')\n",
        "plt.ylabel(\"Emissão de C02\")\n",
        "plt.xlabel(\"Motores\")\n",
        "plt.show()"
      ],
      "execution_count": 13,
      "outputs": [
        {
          "output_type": "display_data",
          "data": {
            "image/png": "[encoded data removed]",
            "text/plain": [
              "<Figure size 432x288 with 1 Axes>"
            ]
          },
          "metadata": {
            "tags": []
          }
        }
      ]
    },
    {
      "cell_type": "markdown",
      "metadata": {
        "id": "WHfWOs27Szxx",
        "colab_type": "text"
      },
      "source": [
        "# Vamos avaliar o modelo"
      ]
    },
    {
      "cell_type": "code",
      "metadata": {
        "id": "mf5viRxsS3zv",
        "colab_type": "code",
        "outputId": "ddab295b-1976-45f8-cd91-ce307cefe323",
        "colab": {
          "base_uri": "https://localhost:8080/",
          "height": 107
        }
      },
      "source": [
        "#Agora é mostrar as métricas\n",
        "print(\"Soma dos Erros ao Quadrado (SSE): %2.f \" % np.sum((predicoesCo2 - co2_teste)**2))\n",
        "print(\"Erro Quadrático Médio (MSE): %.2f\" % mean_squared_error(co2_teste, predicoesCo2))\n",
        "print(\"Erro Médio Absoluto (MAE): %.2f\" % mean_absolute_error(co2_teste, predicoesCo2))\n",
        "print (\"Raiz do Erro Quadrático Médio (RMSE): %.2f \" % sqrt(mean_squared_error(co2_teste, predicoesCo2)))\n",
        "print(\"R2-score: %.2f\" % r2_score(predicoesCo2 , co2_teste) )"
      ],
      "execution_count": 14,
      "outputs": [
        {
          "output_type": "stream",
          "text": [
            "Soma dos Erros ao Quadrado (SSE): 210991 \n",
            "Erro Quadrático Médio (MSE): 985.94\n",
            "Erro Médio Absoluto (MAE): 24.10\n",
            "Raiz do Erro Quadrático Médio (RMSE): 31.40 \n",
            "R2-score: 0.68\n"
          ],
          "name": "stdout"
        }
      ]
    }
  ]
}