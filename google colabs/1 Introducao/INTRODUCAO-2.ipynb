{
  "nbformat": 4,
  "nbformat_minor": 0,
  "metadata": {
    "kernelspec": {
      "display_name": "Python 3",
      "language": "python",
      "name": "python3"
    },
    "language_info": {
      "codemirror_mode": {
        "name": "ipython",
        "version": 3
      },
      "file_extension": ".py",
      "mimetype": "text/x-python",
      "name": "python",
      "nbconvert_exporter": "python",
      "pygments_lexer": "ipython3",
      "version": "3.7.4"
    },
    "colab": {
      "name": "ml-pratica2.ipynb",
      "provenance": []
    }
  },
  "cells": [
    {
      "cell_type": "markdown",
      "metadata": {
        "id": "RtsyfxqwHOMS"
      },
      "source": [
        "# NumPy"
      ]
    },
    {
      "cell_type": "markdown",
      "metadata": {
        "id": "5wUePUrCHOMT"
      },
      "source": [
        "- Permite operações matemáticas \n",
        "- Mais veloz que listas pois permitem apenas um tipo de dados"
      ]
    },
    {
      "cell_type": "code",
      "metadata": {
        "id": "igIWKyptHOMU"
      },
      "source": [
        "lista = [1, 4, 9, 10, 11]"
      ],
      "execution_count": null,
      "outputs": []
    },
    {
      "cell_type": "code",
      "metadata": {
        "id": "9BB4YldkHOMV"
      },
      "source": [
        "import numpy as np"
      ],
      "execution_count": null,
      "outputs": []
    },
    {
      "cell_type": "code",
      "metadata": {
        "id": "ECcvuAXBHOMW"
      },
      "source": [
        "l_array = np.array(lista)"
      ],
      "execution_count": null,
      "outputs": []
    },
    {
      "cell_type": "code",
      "metadata": {
        "id": "QKc-qYDpHOMW",
        "outputId": "a0801040-ef85-4ea4-a140-11fea3c08529"
      },
      "source": [
        "print(lista)\n",
        "type(lista)"
      ],
      "execution_count": null,
      "outputs": [
        {
          "output_type": "stream",
          "text": [
            "[1, 4, 9, 10, 11]\n"
          ],
          "name": "stdout"
        },
        {
          "output_type": "execute_result",
          "data": {
            "text/plain": [
              "list"
            ]
          },
          "metadata": {
            "tags": []
          },
          "execution_count": 4
        }
      ]
    },
    {
      "cell_type": "code",
      "metadata": {
        "id": "gRRpoRXDHOMl",
        "outputId": "bb7c670a-5175-475f-cc15-d2116494e144"
      },
      "source": [
        "print(l_array)\n",
        "type(l_array)"
      ],
      "execution_count": null,
      "outputs": [
        {
          "output_type": "stream",
          "text": [
            "[ 1  4  9 10 11]\n"
          ],
          "name": "stdout"
        },
        {
          "output_type": "execute_result",
          "data": {
            "text/plain": [
              "numpy.ndarray"
            ]
          },
          "metadata": {
            "tags": []
          },
          "execution_count": 5
        }
      ]
    },
    {
      "cell_type": "code",
      "metadata": {
        "id": "1xKlr62AHOMo"
      },
      "source": [
        "lista2 = [[5, 1.75], [6, 1.6], [9, 1.2], [3, 1.5], [7, 1.7]]"
      ],
      "execution_count": null,
      "outputs": []
    },
    {
      "cell_type": "code",
      "metadata": {
        "id": "jCpGf57SHOMp",
        "outputId": "5d3d8545-cd98-421f-b799-9446992ceb43"
      },
      "source": [
        "print(lista2)\n",
        "l2_array = np.array(lista2)\n",
        "print(l2_array)\n",
        "type(l2_array)"
      ],
      "execution_count": null,
      "outputs": [
        {
          "output_type": "stream",
          "text": [
            "[[5, 1.75], [6, 1.6], [9, 1.2], [3, 1.5], [7, 1.7]]\n",
            "[[5.   1.75]\n",
            " [6.   1.6 ]\n",
            " [9.   1.2 ]\n",
            " [3.   1.5 ]\n",
            " [7.   1.7 ]]\n"
          ],
          "name": "stdout"
        },
        {
          "output_type": "execute_result",
          "data": {
            "text/plain": [
              "numpy.ndarray"
            ]
          },
          "metadata": {
            "tags": []
          },
          "execution_count": 17
        }
      ]
    },
    {
      "cell_type": "code",
      "metadata": {
        "id": "gToS8oKRHOMq",
        "outputId": "1334c892-642c-4b98-c436-3a9bf348fa8b"
      },
      "source": [
        "l2_array[:,1]"
      ],
      "execution_count": null,
      "outputs": [
        {
          "output_type": "execute_result",
          "data": {
            "text/plain": [
              "array([1.75, 1.6 , 1.2 , 1.5 , 1.7 ])"
            ]
          },
          "metadata": {
            "tags": []
          },
          "execution_count": 21
        }
      ]
    },
    {
      "cell_type": "code",
      "metadata": {
        "id": "M9tLvAV3HOMr",
        "outputId": "073ce9f4-e9c7-490b-b820-264ebe997b75"
      },
      "source": [
        "l2_array[1,:]"
      ],
      "execution_count": null,
      "outputs": [
        {
          "output_type": "execute_result",
          "data": {
            "text/plain": [
              "array([6. , 1.6])"
            ]
          },
          "metadata": {
            "tags": []
          },
          "execution_count": 22
        }
      ]
    },
    {
      "cell_type": "code",
      "metadata": {
        "id": "PepuU6DnHOMs",
        "outputId": "b5c6e1e0-ef71-4490-b20a-3b6a341617d1"
      },
      "source": [
        "l2_array[0:2,:]"
      ],
      "execution_count": null,
      "outputs": [
        {
          "output_type": "execute_result",
          "data": {
            "text/plain": [
              "array([[5.  , 1.75],\n",
              "       [6.  , 1.6 ]])"
            ]
          },
          "metadata": {
            "tags": []
          },
          "execution_count": 23
        }
      ]
    },
    {
      "cell_type": "code",
      "metadata": {
        "id": "clEbbX4qHOMv",
        "outputId": "5fafe674-e803-4042-c8e9-84612087d003"
      },
      "source": [
        "l2_array[:,0]"
      ],
      "execution_count": null,
      "outputs": [
        {
          "output_type": "execute_result",
          "data": {
            "text/plain": [
              "array([5., 6., 9., 3., 7.])"
            ]
          },
          "metadata": {
            "tags": []
          },
          "execution_count": 25
        }
      ]
    },
    {
      "cell_type": "code",
      "metadata": {
        "id": "w2qY7yVYHOMx",
        "outputId": "f46d1f8b-5315-4bbb-c16a-ec4621c789ce"
      },
      "source": [
        "l_array"
      ],
      "execution_count": null,
      "outputs": [
        {
          "output_type": "execute_result",
          "data": {
            "text/plain": [
              "array([ 1,  4,  9, 10, 11])"
            ]
          },
          "metadata": {
            "tags": []
          },
          "execution_count": 26
        }
      ]
    },
    {
      "cell_type": "code",
      "metadata": {
        "id": "OXLlH1sjHOMz",
        "outputId": "cf0e7ad8-5408-4e06-995e-e6e4876f616a"
      },
      "source": [
        "l_array * 2"
      ],
      "execution_count": null,
      "outputs": [
        {
          "output_type": "execute_result",
          "data": {
            "text/plain": [
              "array([ 2,  8, 18, 20, 22])"
            ]
          },
          "metadata": {
            "tags": []
          },
          "execution_count": 27
        }
      ]
    },
    {
      "cell_type": "code",
      "metadata": {
        "id": "fI61gcZBHOMz",
        "outputId": "a5dba715-3a79-4971-99b7-78c687ead9a7"
      },
      "source": [
        "l2_array"
      ],
      "execution_count": null,
      "outputs": [
        {
          "output_type": "execute_result",
          "data": {
            "text/plain": [
              "array([[5.  , 1.75],\n",
              "       [6.  , 1.6 ],\n",
              "       [9.  , 1.2 ],\n",
              "       [3.  , 1.5 ],\n",
              "       [7.  , 1.7 ]])"
            ]
          },
          "metadata": {
            "tags": []
          },
          "execution_count": 28
        }
      ]
    },
    {
      "cell_type": "code",
      "metadata": {
        "id": "kdEDBFz4HOM3",
        "outputId": "91406296-a58e-4a05-c43c-8f0ebba87524"
      },
      "source": [
        "l2_array * 2"
      ],
      "execution_count": null,
      "outputs": [
        {
          "output_type": "execute_result",
          "data": {
            "text/plain": [
              "array([[10. ,  3.5],\n",
              "       [12. ,  3.2],\n",
              "       [18. ,  2.4],\n",
              "       [ 6. ,  3. ],\n",
              "       [14. ,  3.4]])"
            ]
          },
          "metadata": {
            "tags": []
          },
          "execution_count": 29
        }
      ]
    },
    {
      "cell_type": "code",
      "metadata": {
        "id": "WjUUapzgHOM5",
        "outputId": "9dcd02b3-e2d7-4093-c9fc-aa19ecad131d"
      },
      "source": [
        "l_array"
      ],
      "execution_count": null,
      "outputs": [
        {
          "output_type": "execute_result",
          "data": {
            "text/plain": [
              "array([ 1,  4,  9, 10, 11])"
            ]
          },
          "metadata": {
            "tags": []
          },
          "execution_count": 30
        }
      ]
    },
    {
      "cell_type": "code",
      "metadata": {
        "id": "e-QXKKm5HOM6",
        "outputId": "6e8d3a3c-5e0c-4e16-979a-545d3a87c724"
      },
      "source": [
        "np.mean(l_array)"
      ],
      "execution_count": null,
      "outputs": [
        {
          "output_type": "execute_result",
          "data": {
            "text/plain": [
              "7.0"
            ]
          },
          "metadata": {
            "tags": []
          },
          "execution_count": 31
        }
      ]
    },
    {
      "cell_type": "code",
      "metadata": {
        "id": "t2q9w46FHOM8",
        "outputId": "4939ca4a-fad4-4ea1-88ef-cba4b654cecd"
      },
      "source": [
        "np.median(l_array)"
      ],
      "execution_count": null,
      "outputs": [
        {
          "output_type": "execute_result",
          "data": {
            "text/plain": [
              "9.0"
            ]
          },
          "metadata": {
            "tags": []
          },
          "execution_count": 32
        }
      ]
    },
    {
      "cell_type": "code",
      "metadata": {
        "id": "R8mdn4f9HOM9",
        "outputId": "3d0e3c8b-13b7-42da-e328-0478155ac800"
      },
      "source": [
        "l2_array.shape"
      ],
      "execution_count": null,
      "outputs": [
        {
          "output_type": "execute_result",
          "data": {
            "text/plain": [
              "(5, 2)"
            ]
          },
          "metadata": {
            "tags": []
          },
          "execution_count": 33
        }
      ]
    },
    {
      "cell_type": "code",
      "metadata": {
        "id": "ffn7_2TqHOM9"
      },
      "source": [
        "l3_array = np.array([1, 2, 3, 4, \"5\"])"
      ],
      "execution_count": null,
      "outputs": []
    },
    {
      "cell_type": "code",
      "metadata": {
        "id": "J2_DzL0OHOM-",
        "outputId": "6cb652e1-5daa-47c9-b9b4-53da752a782c"
      },
      "source": [
        "l3_array"
      ],
      "execution_count": null,
      "outputs": [
        {
          "output_type": "execute_result",
          "data": {
            "text/plain": [
              "array(['1', '2', '3', '4', '5'], dtype='<U21')"
            ]
          },
          "metadata": {
            "tags": []
          },
          "execution_count": 35
        }
      ]
    },
    {
      "cell_type": "code",
      "metadata": {
        "id": "BiuasL86HOM_",
        "outputId": "341a446a-774b-4f06-e940-6b7dce64c8c6"
      },
      "source": [
        "l_array"
      ],
      "execution_count": null,
      "outputs": [
        {
          "output_type": "execute_result",
          "data": {
            "text/plain": [
              "array([ 1,  4,  9, 10, 11])"
            ]
          },
          "metadata": {
            "tags": []
          },
          "execution_count": 36
        }
      ]
    },
    {
      "cell_type": "code",
      "metadata": {
        "id": "UrM8qCQrHOM_",
        "outputId": "37d7ddbb-8665-4b26-8098-b6d6ff70f7ed"
      },
      "source": [
        "l_array > 9"
      ],
      "execution_count": null,
      "outputs": [
        {
          "output_type": "execute_result",
          "data": {
            "text/plain": [
              "array([False, False, False,  True,  True])"
            ]
          },
          "metadata": {
            "tags": []
          },
          "execution_count": 37
        }
      ]
    },
    {
      "cell_type": "code",
      "metadata": {
        "id": "bm9JnfF_HONB",
        "outputId": "a8747066-ce32-4193-91c0-51d72c8c9617"
      },
      "source": [
        "l_array[l_array > 9]"
      ],
      "execution_count": null,
      "outputs": [
        {
          "output_type": "execute_result",
          "data": {
            "text/plain": [
              "array([10, 11])"
            ]
          },
          "metadata": {
            "tags": []
          },
          "execution_count": 38
        }
      ]
    },
    {
      "cell_type": "code",
      "metadata": {
        "id": "H4qzC7rsHONB",
        "outputId": "129c42bb-4173-493a-d124-f84865ef2124"
      },
      "source": [
        "l_array + l_array"
      ],
      "execution_count": null,
      "outputs": [
        {
          "output_type": "execute_result",
          "data": {
            "text/plain": [
              "array([ 2,  8, 18, 20, 22])"
            ]
          },
          "metadata": {
            "tags": []
          },
          "execution_count": 39
        }
      ]
    },
    {
      "cell_type": "code",
      "metadata": {
        "id": "L40vP321HONB",
        "outputId": "e4e760da-7032-4c8a-a0c5-c829b769e210"
      },
      "source": [
        "lista + lista"
      ],
      "execution_count": null,
      "outputs": [
        {
          "output_type": "execute_result",
          "data": {
            "text/plain": [
              "[1, 4, 9, 10, 11, 1, 4, 9, 10, 11]"
            ]
          },
          "metadata": {
            "tags": []
          },
          "execution_count": 40
        }
      ]
    },
    {
      "cell_type": "code",
      "metadata": {
        "id": "084aJZHJHONC"
      },
      "source": [
        ""
      ],
      "execution_count": null,
      "outputs": []
    },
    {
      "cell_type": "markdown",
      "metadata": {
        "id": "oNkCZZC1HONC"
      },
      "source": [
        "# Exercício 1\n",
        "- Dados as listas abaixo:"
      ]
    },
    {
      "cell_type": "code",
      "metadata": {
        "id": "KTPfEj7yHONC"
      },
      "source": [
        "altura = [1.73, 1.68, 1.71, 1.89, 1.79]"
      ],
      "execution_count": null,
      "outputs": []
    },
    {
      "cell_type": "code",
      "metadata": {
        "id": "bKAhrDH4HONC"
      },
      "source": [
        "peso = [65.4, 59.2, 63.6, 88.4, 68.7]"
      ],
      "execution_count": null,
      "outputs": []
    },
    {
      "cell_type": "markdown",
      "metadata": {
        "id": "HeTiW2TrHOND"
      },
      "source": [
        "- Importe numpy as np\n",
        "- crie dois numpy arrays com a altura e o peso de 5 pessoas baseados na lista acima\n",
        "- calcule o indice de massa corporal de cada uma das 5 pessoas e armazeno em um array chamado imc (imc = peso / altura**2)\n",
        "- imprima o array imc\n",
        "- selecione do array imc apenas as pessoas que estiverem com icm acima de 23 e armazene no array sobrepeso\n",
        "- imprima o array sobrepeso"
      ]
    },
    {
      "cell_type": "markdown",
      "metadata": {
        "id": "6vUYHbhhHOND"
      },
      "source": [
        "# Exercício 2\n",
        "- Dadas as listas abaixo:"
      ]
    },
    {
      "cell_type": "code",
      "metadata": {
        "id": "cGBwK1G_HOND"
      },
      "source": [
        "year = [1950, 1970, 1990, 2010]\n",
        "pop = [2.519, 3.692, 5.263, 6.972]"
      ],
      "execution_count": null,
      "outputs": []
    },
    {
      "cell_type": "markdown",
      "metadata": {
        "id": "sX9lVrNZHONE"
      },
      "source": [
        "- Importe matplotlib.pyplot as plt\n",
        "- plote um gráfico em linha com o método plt.plot(x,y)\n",
        "- plotte um scatter plot com o método plt.scatter(x,y)\n",
        "- use os métodos plt.xlabel(), plt.ylabel() e plt.title() para descrever os gráficos\n"
      ]
    },
    {
      "cell_type": "code",
      "metadata": {
        "id": "UGSWfi9yHONF"
      },
      "source": [
        ""
      ],
      "execution_count": null,
      "outputs": []
    },
    {
      "cell_type": "code",
      "metadata": {
        "id": "RMOKRjIrHONG"
      },
      "source": [
        ""
      ],
      "execution_count": null,
      "outputs": []
    },
    {
      "cell_type": "code",
      "metadata": {
        "id": "5cG0h_BBHONG"
      },
      "source": [
        ""
      ],
      "execution_count": null,
      "outputs": []
    },
    {
      "cell_type": "code",
      "metadata": {
        "id": "iO02YuDsHONG"
      },
      "source": [
        ""
      ],
      "execution_count": null,
      "outputs": []
    }
  ]
}
