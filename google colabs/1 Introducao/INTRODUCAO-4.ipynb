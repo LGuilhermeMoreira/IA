{
  "nbformat": 4,
  "nbformat_minor": 0,
  "metadata": {
    "kernelspec": {
      "display_name": "Python 3",
      "language": "python",
      "name": "python3"
    },
    "language_info": {
      "codemirror_mode": {
        "name": "ipython",
        "version": 3
      },
      "file_extension": ".py",
      "mimetype": "text/x-python",
      "name": "python",
      "nbconvert_exporter": "python",
      "pygments_lexer": "ipython3",
      "version": "3.7.4"
    },
    "colab": {
      "name": "ml-pratica4.ipynb",
      "provenance": [],
      "collapsed_sections": []
    }
  },
  "cells": [
    {
      "cell_type": "markdown",
      "metadata": {
        "id": "A-RtOXj98sKJ"
      },
      "source": [
        "# Pseudo-Random Numbers"
      ]
    },
    {
      "cell_type": "code",
      "metadata": {
        "id": "UyvF33zL8sKX"
      },
      "source": [
        "import numpy as np"
      ],
      "execution_count": null,
      "outputs": []
    },
    {
      "cell_type": "code",
      "metadata": {
        "id": "wQlc30HC8sKY",
        "outputId": "c70d505e-a880-4e84-9882-e61ea2a74d32"
      },
      "source": [
        "np.random.rand()"
      ],
      "execution_count": null,
      "outputs": [
        {
          "output_type": "execute_result",
          "data": {
            "text/plain": [
              "0.1721207200469408"
            ]
          },
          "metadata": {
            "tags": []
          },
          "execution_count": 2
        }
      ]
    },
    {
      "cell_type": "code",
      "metadata": {
        "id": "mOfSorbr8sKa",
        "outputId": "a5853884-1e77-4b71-a0b5-172a2b5095c1"
      },
      "source": [
        "np.random.rand()"
      ],
      "execution_count": null,
      "outputs": [
        {
          "output_type": "execute_result",
          "data": {
            "text/plain": [
              "0.42972483027457964"
            ]
          },
          "metadata": {
            "tags": []
          },
          "execution_count": 3
        }
      ]
    },
    {
      "cell_type": "code",
      "metadata": {
        "id": "XXw-UuBr8sKb"
      },
      "source": [
        "np.random.seed(123)"
      ],
      "execution_count": null,
      "outputs": []
    },
    {
      "cell_type": "code",
      "metadata": {
        "id": "QGXVL74B8sKc",
        "outputId": "f70eda78-154e-4625-b45e-604ac4a7b849"
      },
      "source": [
        "np.random.rand()"
      ],
      "execution_count": null,
      "outputs": [
        {
          "output_type": "execute_result",
          "data": {
            "text/plain": [
              "0.6964691855978616"
            ]
          },
          "metadata": {
            "tags": []
          },
          "execution_count": 5
        }
      ]
    },
    {
      "cell_type": "code",
      "metadata": {
        "id": "F1_y4U0I8sKc",
        "outputId": "e6e1b373-8994-48a9-a869-3306c12e134b"
      },
      "source": [
        "np.random.rand()"
      ],
      "execution_count": null,
      "outputs": [
        {
          "output_type": "execute_result",
          "data": {
            "text/plain": [
              "0.28613933495037946"
            ]
          },
          "metadata": {
            "tags": []
          },
          "execution_count": 6
        }
      ]
    },
    {
      "cell_type": "code",
      "metadata": {
        "id": "-Rx_nVbj8sKd"
      },
      "source": [
        "np.random.seed(123)"
      ],
      "execution_count": null,
      "outputs": []
    },
    {
      "cell_type": "code",
      "metadata": {
        "id": "WjBM6Iaz8sKd",
        "outputId": "20fc7a8c-0d6b-4276-aab7-a27caf77cf88"
      },
      "source": [
        "np.random.rand()"
      ],
      "execution_count": null,
      "outputs": [
        {
          "output_type": "execute_result",
          "data": {
            "text/plain": [
              "0.6964691855978616"
            ]
          },
          "metadata": {
            "tags": []
          },
          "execution_count": 8
        }
      ]
    },
    {
      "cell_type": "code",
      "metadata": {
        "id": "xPyobtjw8sKe",
        "outputId": "b70d75dc-e05a-48d6-8aae-189e7aa6bd59"
      },
      "source": [
        "np.random.rand()"
      ],
      "execution_count": null,
      "outputs": [
        {
          "output_type": "execute_result",
          "data": {
            "text/plain": [
              "0.28613933495037946"
            ]
          },
          "metadata": {
            "tags": []
          },
          "execution_count": 9
        }
      ]
    },
    {
      "cell_type": "markdown",
      "metadata": {
        "id": "kI-0v6MA8sKf"
      },
      "source": [
        "# Com a determinação da seed permite a reprodução de experimentos com as mesmas entradas -> pseudo-random"
      ]
    },
    {
      "cell_type": "code",
      "metadata": {
        "id": "-KggnGWK8sKg"
      },
      "source": [
        "np.random.seed(123)"
      ],
      "execution_count": null,
      "outputs": []
    },
    {
      "cell_type": "code",
      "metadata": {
        "id": "Obbi5mxc8sKg"
      },
      "source": [
        "coin = np.random.randint(0,2) #gerando um número inteiro 0 ou 1"
      ],
      "execution_count": null,
      "outputs": []
    },
    {
      "cell_type": "code",
      "metadata": {
        "id": "bHcrxe_Y8sKh",
        "outputId": "21459f84-c87f-4762-e266-061915c996f5"
      },
      "source": [
        "print(coin)"
      ],
      "execution_count": null,
      "outputs": [
        {
          "output_type": "stream",
          "text": [
            "0\n"
          ],
          "name": "stdout"
        }
      ]
    },
    {
      "cell_type": "code",
      "metadata": {
        "id": "uFcoEicT8sKh",
        "outputId": "9531fe55-8e4d-401b-bfa0-3d51e261fde1"
      },
      "source": [
        "np.random.seed(123)\n",
        "coin = np.random.randint(0,2)\n",
        "print(coin)\n",
        "if coin == 0:\n",
        "    print(\"heads\")\n",
        "else:\n",
        "    print(\"tails\")"
      ],
      "execution_count": null,
      "outputs": [
        {
          "output_type": "stream",
          "text": [
            "0\n",
            "heads\n"
          ],
          "name": "stdout"
        }
      ]
    },
    {
      "cell_type": "markdown",
      "metadata": {
        "id": "5QpwN15A8sKi"
      },
      "source": [
        "# Random Walk"
      ]
    },
    {
      "cell_type": "code",
      "metadata": {
        "id": "pnduS5Fw8sKi",
        "outputId": "bce04889-8c8c-4404-8ae4-c014d29a9dad"
      },
      "source": [
        "np.random.seed(123)\n",
        "outcomes = []\n",
        "for x in range(10) :\n",
        "    coin = np.random.randint(0,2)\n",
        "    if coin == 0:\n",
        "        outcomes.append(\"heads\")\n",
        "    else:\n",
        "        outcomes.append(\"tails\")\n",
        "print(outcomes)"
      ],
      "execution_count": null,
      "outputs": [
        {
          "output_type": "stream",
          "text": [
            "['heads', 'tails', 'heads', 'heads', 'heads', 'heads', 'heads', 'tails', 'tails', 'heads']\n"
          ],
          "name": "stdout"
        }
      ]
    },
    {
      "cell_type": "markdown",
      "metadata": {
        "id": "Y3fbWYmk8sKk"
      },
      "source": [
        "# Acima descrevemos radom steps pois o elemento seguinte não depede do anterior!"
      ]
    },
    {
      "cell_type": "code",
      "metadata": {
        "id": "52z1R_gw8sKl",
        "outputId": "f13e5cfb-f641-4b4a-c187-d52fe113614a"
      },
      "source": [
        "np.random.seed(123)\n",
        "tails = [0]\n",
        "for x in range(10) :\n",
        "    coin = np.random.randint(0,2)\n",
        "    tails.append(tails[x] + coin)\n",
        "print(tails)"
      ],
      "execution_count": null,
      "outputs": [
        {
          "output_type": "stream",
          "text": [
            "[0, 0, 1, 1, 1, 1, 1, 1, 2, 3, 3]\n"
          ],
          "name": "stdout"
        }
      ]
    },
    {
      "cell_type": "markdown",
      "metadata": {
        "id": "gHWdR7tZ8sKl"
      },
      "source": [
        "# Agora sim temos uma Random Walk"
      ]
    },
    {
      "cell_type": "code",
      "metadata": {
        "id": "kFzo8rTD8sKm",
        "outputId": "0c13ffe6-7841-4668-e6d8-a9838a7f5ea2"
      },
      "source": [
        "print(outcomes)"
      ],
      "execution_count": null,
      "outputs": [
        {
          "output_type": "stream",
          "text": [
            "['heads', 'tails', 'heads', 'heads', 'heads', 'heads', 'heads', 'tails', 'tails', 'heads']\n"
          ],
          "name": "stdout"
        }
      ]
    },
    {
      "cell_type": "code",
      "metadata": {
        "id": "nSBWh3gU8sKm",
        "outputId": "77b1ec28-1146-46ee-eb06-8e24c379fe06"
      },
      "source": [
        "print(tails)"
      ],
      "execution_count": null,
      "outputs": [
        {
          "output_type": "stream",
          "text": [
            "[0, 0, 1, 1, 1, 1, 1, 1, 2, 3, 3]\n"
          ],
          "name": "stdout"
        }
      ]
    },
    {
      "cell_type": "markdown",
      "metadata": {
        "id": "f84flD8U8sKn"
      },
      "source": [
        "# Verificando uma distribuição"
      ]
    },
    {
      "cell_type": "code",
      "metadata": {
        "id": "5OB6_2BG8sKo",
        "outputId": "74f77071-7233-4c0f-e38c-f9ba9455f1bf"
      },
      "source": [
        "np.random.seed(123)\n",
        "final_tails = []\n",
        "for x in range(100) :\n",
        "    tails = [0]\n",
        "    for x in range(10) :\n",
        "        coin = np.random.randint(0,2)\n",
        "        tails.append(tails[x] + coin)\n",
        "    final_tails.append(tails[-1])\n",
        "print(final_tails)"
      ],
      "execution_count": null,
      "outputs": [
        {
          "output_type": "stream",
          "text": [
            "[3, 6, 4, 5, 4, 5, 3, 5, 4, 6, 6, 8, 6, 4, 7, 5, 7, 4, 3, 3, 4, 5, 8, 5, 6, 5, 7, 6, 4, 5, 8, 5, 8, 4, 6, 6, 3, 4, 5, 4, 7, 8, 9, 4, 3, 4, 5, 6, 4, 2, 6, 6, 5, 7, 5, 4, 5, 5, 6, 7, 6, 6, 6, 3, 6, 3, 6, 5, 6, 5, 6, 4, 6, 6, 3, 4, 4, 2, 4, 5, 4, 6, 6, 6, 8, 4, 6, 5, 7, 4, 6, 5, 4, 6, 7, 3, 7, 4, 5, 7]\n"
          ],
          "name": "stdout"
        }
      ]
    },
    {
      "cell_type": "code",
      "metadata": {
        "id": "2jWDiGZk8sKo",
        "outputId": "ff6cae8a-fdf6-4daf-9d0e-5abe5d45568a"
      },
      "source": [
        "import matplotlib.pyplot as plt\n",
        "np.random.seed(123)\n",
        "final_tails = []\n",
        "for x in range(100) :\n",
        "    tails = [0]\n",
        "    for x in range(10) :\n",
        "        coin = np.random.randint(0,2)\n",
        "        tails.append(tails[x] + coin)\n",
        "    final_tails.append(tails[-1])\n",
        "plt.hist(final_tails, bins = 10)\n",
        "plt.show()"
      ],
      "execution_count": null,
      "outputs": [
        {
          "output_type": "display_data",
          "data": {
            "image/png": "[encoded data removed]",
            "text/plain": [
              "<Figure size 432x288 with 1 Axes>"
            ]
          },
          "metadata": {
            "tags": [],
            "needs_background": "light"
          }
        }
      ]
    },
    {
      "cell_type": "code",
      "metadata": {
        "id": "TndxzPKE8sKp",
        "outputId": "3b3f1c05-178f-49d9-d02e-d84fa68c5e11"
      },
      "source": [
        "import matplotlib.pyplot as plt\n",
        "np.random.seed(123)\n",
        "final_tails = []\n",
        "for x in range(1000) :\n",
        "    tails = [0]\n",
        "    for x in range(10) :\n",
        "        coin = np.random.randint(0,2)\n",
        "        tails.append(tails[x] + coin)\n",
        "    final_tails.append(tails[-1])\n",
        "plt.hist(final_tails, bins = 10)"
      ],
      "execution_count": null,
      "outputs": [
        {
          "output_type": "execute_result",
          "data": {
            "text/plain": [
              "(array([  1.,   6.,  39., 133., 213., 240., 199., 120.,  39.,  10.]),\n",
              " array([ 0.,  1.,  2.,  3.,  4.,  5.,  6.,  7.,  8.,  9., 10.]),\n",
              " <a list of 10 Patch objects>)"
            ]
          },
          "metadata": {
            "tags": []
          },
          "execution_count": 26
        },
        {
          "output_type": "display_data",
          "data": {
            "image/png": "[encoded data removed]",
            "text/plain": [
              "<Figure size 432x288 with 1 Axes>"
            ]
          },
          "metadata": {
            "tags": [],
            "needs_background": "light"
          }
        }
      ]
    },
    {
      "cell_type": "code",
      "metadata": {
        "id": "TQ8FRNRr8sKp",
        "outputId": "55347509-31b3-4a1a-cb19-043259d9f623"
      },
      "source": [
        "import matplotlib.pyplot as plt\n",
        "np.random.seed(123)\n",
        "final_tails = []\n",
        "for x in range(10000) :\n",
        "    tails = [0]\n",
        "    for x in range(10) :\n",
        "        coin = np.random.randint(0,2)\n",
        "        tails.append(tails[x] + coin)\n",
        "    final_tails.append(tails[-1])\n",
        "plt.hist(final_tails, bins = 10)"
      ],
      "execution_count": null,
      "outputs": [
        {
          "output_type": "execute_result",
          "data": {
            "text/plain": [
              "(array([  10.,   92.,  442., 1179., 2089., 2487., 2017., 1157.,  441.,\n",
              "          86.]),\n",
              " array([ 0.,  1.,  2.,  3.,  4.,  5.,  6.,  7.,  8.,  9., 10.]),\n",
              " <a list of 10 Patch objects>)"
            ]
          },
          "metadata": {
            "tags": []
          },
          "execution_count": 24
        },
        {
          "output_type": "display_data",
          "data": {
            "image/png": "[encoded data removed]",
            "text/plain": [
              "<Figure size 432x288 with 1 Axes>"
            ]
          },
          "metadata": {
            "tags": [],
            "needs_background": "light"
          }
        }
      ]
    },
    {
      "cell_type": "markdown",
      "metadata": {
        "id": "sI7TonUL8sKq"
      },
      "source": [
        "A medida que se aumenta o número de experimentos a distribuição se aproxima da curva normal, uma distribuição teórica determinando que o experimento é válido para representar uma situação real que poderia ser feita com caneta e papel."
      ]
    },
    {
      "cell_type": "markdown",
      "metadata": {
        "id": "8sBl0DbO8sKq"
      },
      "source": [
        "# Exercício"
      ]
    },
    {
      "cell_type": "markdown",
      "metadata": {
        "id": "7XF_ySsa8sKr"
      },
      "source": [
        "Em uma Random Walk de 100 Steps pra subir em um edifício os steps são decididos da seguinte maneira:\n",
        "- Os Steps são decididos no lance de um dado\n",
        "- se der 1 ou 2 desce 1 degrau (-1)\n",
        "- se der 3, 4 ou 5 sobe 1 degrau (+1)\n",
        "- se der 6 lanca o dado novamente e sobe o resultado (+1, +2, +3, +4, +5 ou +6)\n",
        "\n",
        "Obs:\n",
        "\n",
        "- Cada Random Walk tem uma tem um ponto final\n",
        "- Simule 10.000 vezes a caminhada: 10.000 pontos finais\n",
        "- Verifique a distribuição dos resultados finais\n",
        "- Calcule a probabilidade de se subir 60 ou mais andares no conjunto de caminhadas realizadas"
      ]
    },
    {
      "cell_type": "code",
      "metadata": {
        "id": "t48b6C9K8sKr"
      },
      "source": [
        "a = [2,3,4,5]"
      ],
      "execution_count": null,
      "outputs": []
    },
    {
      "cell_type": "code",
      "metadata": {
        "id": "QWWRpODu9DsL"
      },
      "source": [
        "import numpy as np\n"
      ],
      "execution_count": null,
      "outputs": []
    },
    {
      "cell_type": "code",
      "metadata": {
        "id": "W21zvEjX8sKr"
      },
      "source": [
        "b= np.array(a)"
      ],
      "execution_count": null,
      "outputs": []
    },
    {
      "cell_type": "code",
      "metadata": {
        "colab": {
          "base_uri": "https://localhost:8080/"
        },
        "id": "GVK5WJnw8sKr",
        "outputId": "e510a820-1575-4048-a4c1-a27b6c8a49bd"
      },
      "source": [
        "np.mean(b>=4)"
      ],
      "execution_count": null,
      "outputs": [
        {
          "output_type": "execute_result",
          "data": {
            "text/plain": [
              "0.5"
            ]
          },
          "metadata": {
            "tags": []
          },
          "execution_count": 6
        }
      ]
    },
    {
      "cell_type": "code",
      "metadata": {
        "id": "Pq1fS8v6-A4O",
        "colab": {
          "base_uri": "https://localhost:8080/"
        },
        "outputId": "5fd3b782-3f2e-4136-cbae-16b8eff4e08d"
      },
      "source": [
        "b>=4"
      ],
      "execution_count": null,
      "outputs": [
        {
          "output_type": "execute_result",
          "data": {
            "text/plain": [
              "array([False, False,  True,  True])"
            ]
          },
          "metadata": {
            "tags": []
          },
          "execution_count": 7
        }
      ]
    },
    {
      "cell_type": "markdown",
      "metadata": {
        "id": "BX2xZ-Qr8sKs"
      },
      "source": [
        "2/4"
      ]
    },
    {
      "cell_type": "code",
      "metadata": {
        "id": "TBdeDc0r8sKt",
        "outputId": "f1c02ecf-3947-485b-b561-12312c6b34f9"
      },
      "source": [
        "2/4"
      ],
      "execution_count": null,
      "outputs": [
        {
          "output_type": "execute_result",
          "data": {
            "text/plain": [
              "0.5"
            ]
          },
          "metadata": {
            "tags": []
          },
          "execution_count": 42
        }
      ]
    },
    {
      "cell_type": "code",
      "metadata": {
        "id": "SsupxuaX8sKw",
        "outputId": "32ff8886-ddaa-4e74-f1e7-1659623ef052"
      },
      "source": [
        "a"
      ],
      "execution_count": null,
      "outputs": [
        {
          "output_type": "execute_result",
          "data": {
            "text/plain": [
              "array([3, 6, 4, 5, 4, 5, 3, 5, 4, 6, 6, 8, 6, 4, 7, 5, 7, 4, 3, 3, 4, 5,\n",
              "       8, 5, 6, 5, 7, 6, 4, 5, 8, 5, 8, 4, 6, 6, 3, 4, 5, 4, 7, 8, 9, 4,\n",
              "       3, 4, 5, 6, 4, 2, 6, 6, 5, 7, 5, 4, 5, 5, 6, 7, 6, 6, 6, 3, 6, 3,\n",
              "       6, 5, 6, 5, 6, 4, 6, 6, 3, 4, 4, 2, 4, 5, 4, 6, 6, 6, 8, 4, 6, 5,\n",
              "       7, 4, 6, 5, 4, 6, 7, 3, 7, 4, 5, 7])"
            ]
          },
          "metadata": {
            "tags": []
          },
          "execution_count": 43
        }
      ]
    },
    {
      "cell_type": "code",
      "metadata": {
        "id": "Qj3Xk3eD8sKx"
      },
      "source": [
        ""
      ],
      "execution_count": null,
      "outputs": []
    }
  ]
}
